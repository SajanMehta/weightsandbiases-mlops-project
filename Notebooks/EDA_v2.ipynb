{
 "cells": [
  {
   "cell_type": "markdown",
   "id": "c229e50a-0f0d-422a-bf08-c1620483b194",
   "metadata": {},
   "source": [
    "# Exploratory Data Analysis on Athlete Data Version 2\n",
    "*Note: The only thing that has changed is the version of the data that the csv is reading*"
   ]
  },
  {
   "cell_type": "code",
   "execution_count": 15,
   "id": "2e52fc32-d37b-4048-9968-e1f65232ddc8",
   "metadata": {},
   "outputs": [],
   "source": [
    "# Imports\n",
    "import pandas as pd\n",
    "import matplotlib.pyplot as plt\n",
    "import seaborn as sns\n",
    "import wandb"
   ]
  },
  {
   "cell_type": "code",
   "execution_count": 16,
   "id": "1c06e7ba-df33-42c1-99f3-1a26d107fbe2",
   "metadata": {},
   "outputs": [
    {
     "data": {
      "text/html": [],
      "text/plain": [
       "<IPython.core.display.HTML object>"
      ]
     },
     "metadata": {},
     "output_type": "display_data"
    },
    {
     "data": {
      "text/html": [
       "Tracking run with wandb version 0.22.2"
      ],
      "text/plain": [
       "<IPython.core.display.HTML object>"
      ]
     },
     "metadata": {},
     "output_type": "display_data"
    },
    {
     "data": {
      "text/html": [
       "Run data is saved locally in <code>C:\\Users\\Sajan\\OneDrive\\Documents\\UChicago\\MLOps\\Assignment_1_second_tool\\Notebooks\\wandb\\run-20251020_192959-ezr8pvhg</code>"
      ],
      "text/plain": [
       "<IPython.core.display.HTML object>"
      ]
     },
     "metadata": {},
     "output_type": "display_data"
    },
    {
     "data": {
      "text/html": [
       "Syncing run <strong><a href='https://wandb.ai/smehta15-university-of-chicago/mlops-datasets/runs/ezr8pvhg' target=\"_blank\">fresh-microwave-12</a></strong> to <a href='https://wandb.ai/smehta15-university-of-chicago/mlops-datasets' target=\"_blank\">Weights & Biases</a> (<a href='https://wandb.me/developer-guide' target=\"_blank\">docs</a>)<br>"
      ],
      "text/plain": [
       "<IPython.core.display.HTML object>"
      ]
     },
     "metadata": {},
     "output_type": "display_data"
    },
    {
     "data": {
      "text/html": [
       " View project at <a href='https://wandb.ai/smehta15-university-of-chicago/mlops-datasets' target=\"_blank\">https://wandb.ai/smehta15-university-of-chicago/mlops-datasets</a>"
      ],
      "text/plain": [
       "<IPython.core.display.HTML object>"
      ]
     },
     "metadata": {},
     "output_type": "display_data"
    },
    {
     "data": {
      "text/html": [
       " View run at <a href='https://wandb.ai/smehta15-university-of-chicago/mlops-datasets/runs/ezr8pvhg' target=\"_blank\">https://wandb.ai/smehta15-university-of-chicago/mlops-datasets/runs/ezr8pvhg</a>"
      ],
      "text/plain": [
       "<IPython.core.display.HTML object>"
      ]
     },
     "metadata": {},
     "output_type": "display_data"
    },
    {
     "name": "stderr",
     "output_type": "stream",
     "text": [
      "wandb: Downloading large artifact 'athletes:v2', 89.22MB. 4 files...\n",
      "wandb:   4 of 4 files downloaded.  \n",
      "Done. 00:00:00.3 (272.0MB/s)\n"
     ]
    },
    {
     "data": {
      "text/html": [],
      "text/plain": [
       "<IPython.core.display.HTML object>"
      ]
     },
     "metadata": {},
     "output_type": "display_data"
    },
    {
     "data": {
      "text/html": [
       " View run <strong style=\"color:#cdcd00\">fresh-microwave-12</strong> at: <a href='https://wandb.ai/smehta15-university-of-chicago/mlops-datasets/runs/ezr8pvhg' target=\"_blank\">https://wandb.ai/smehta15-university-of-chicago/mlops-datasets/runs/ezr8pvhg</a><br> View project at: <a href='https://wandb.ai/smehta15-university-of-chicago/mlops-datasets' target=\"_blank\">https://wandb.ai/smehta15-university-of-chicago/mlops-datasets</a><br>Synced 5 W&B file(s), 0 media file(s), 0 artifact file(s) and 0 other file(s)"
      ],
      "text/plain": [
       "<IPython.core.display.HTML object>"
      ]
     },
     "metadata": {},
     "output_type": "display_data"
    },
    {
     "data": {
      "text/html": [
       "Find logs at: <code>.\\wandb\\run-20251020_192959-ezr8pvhg\\logs</code>"
      ],
      "text/plain": [
       "<IPython.core.display.HTML object>"
      ]
     },
     "metadata": {},
     "output_type": "display_data"
    }
   ],
   "source": [
    "# Connect to wandb\n",
    "run = wandb.init(project=\"mlops-datasets\", job_type = \"load-dataset\")\n",
    "art = run.use_artifact(\"smehta15-university-of-chicago/mlops-datasets/athletes:v2\")\n",
    "path = art.download()\n",
    "data = pd.read_csv(f\"{path}/complete.csv\")\n",
    "run.finish()"
   ]
  },
  {
   "cell_type": "code",
   "execution_count": 17,
   "id": "585812de-1894-44dd-99ea-ab2f64081129",
   "metadata": {},
   "outputs": [
    {
     "name": "stdout",
     "output_type": "stream",
     "text": [
      "                region gender   age  height  weight  candj  snatch  deadlift  \\\n",
      "0  Southern California   Male  30.0    71.0   200.0  235.0   175.0     385.0   \n",
      "1               Africa   Male  28.0    70.0   176.0  187.0   134.0     335.0   \n",
      "2           North East   Male  35.0    68.0   225.0  285.0   205.0     440.0   \n",
      "3        North Central   Male  36.0    71.0   199.0  267.0   212.0     485.0   \n",
      "4           North East   Male  36.0    64.0   155.0  245.0   180.0     415.0   \n",
      "\n",
      "   backsq                                                eat  \\\n",
      "0   315.0                      I eat whatever is convenient|   \n",
      "1   254.0               I eat 1-3 full cheat meals per week|   \n",
      "2   405.0  I eat quality foods but don't measure the amount|   \n",
      "3   390.0  I eat quality foods but don't measure the amount|   \n",
      "4   385.0                                I eat strict Paleo|   \n",
      "\n",
      "                                          background  \\\n",
      "0  I played youth or high school level sports|I p...   \n",
      "1    I have no athletic background besides CrossFit|   \n",
      "2        I played youth or high school level sports|   \n",
      "3  I played youth or high school level sports|I p...   \n",
      "4  I played youth or high school level sports|I p...   \n",
      "\n",
      "                                          experience  \\\n",
      "0  I began CrossFit by trying it alone (without a...   \n",
      "1  I began CrossFit with a coach (e.g. at an affi...   \n",
      "2  I began CrossFit with a coach (e.g. at an affi...   \n",
      "3  I began CrossFit with a coach (e.g. at an affi...   \n",
      "4  I began CrossFit by trying it alone (without a...   \n",
      "\n",
      "                                            schedule     howlong  total_lift  \n",
      "0  I do multiple workouts in a day 1x a week|I ty...  1-2 years|      1110.0  \n",
      "1         I do multiple workouts in a day 1x a week|  2-4 years|       910.0  \n",
      "2         I typically rest 4 or more days per month|  2-4 years|      1335.0  \n",
      "3  I do multiple workouts in a day 3+ times a wee...  1-2 years|      1354.0  \n",
      "4  I do multiple workouts in a day 2x a week|I st...   4+ years|      1225.0  \n"
     ]
    }
   ],
   "source": [
    "print(data.head())"
   ]
  },
  {
   "cell_type": "code",
   "execution_count": 18,
   "id": "3ade6593-610b-425e-aade-dd6b9d92f44d",
   "metadata": {},
   "outputs": [
    {
     "data": {
      "text/html": [
       "<div>\n",
       "<style scoped>\n",
       "    .dataframe tbody tr th:only-of-type {\n",
       "        vertical-align: middle;\n",
       "    }\n",
       "\n",
       "    .dataframe tbody tr th {\n",
       "        vertical-align: top;\n",
       "    }\n",
       "\n",
       "    .dataframe thead th {\n",
       "        text-align: right;\n",
       "    }\n",
       "</style>\n",
       "<table border=\"1\" class=\"dataframe\">\n",
       "  <thead>\n",
       "    <tr style=\"text-align: right;\">\n",
       "      <th></th>\n",
       "      <th>age</th>\n",
       "      <th>height</th>\n",
       "      <th>weight</th>\n",
       "      <th>candj</th>\n",
       "      <th>snatch</th>\n",
       "      <th>deadlift</th>\n",
       "      <th>backsq</th>\n",
       "      <th>total_lift</th>\n",
       "    </tr>\n",
       "  </thead>\n",
       "  <tbody>\n",
       "    <tr>\n",
       "      <th>count</th>\n",
       "      <td>30029.000000</td>\n",
       "      <td>30029.000000</td>\n",
       "      <td>30029.000000</td>\n",
       "      <td>30029.000000</td>\n",
       "      <td>30029.000000</td>\n",
       "      <td>30029.000000</td>\n",
       "      <td>30029.000000</td>\n",
       "      <td>30029.000000</td>\n",
       "    </tr>\n",
       "    <tr>\n",
       "      <th>mean</th>\n",
       "      <td>32.123847</td>\n",
       "      <td>68.871924</td>\n",
       "      <td>177.130607</td>\n",
       "      <td>205.418396</td>\n",
       "      <td>156.174198</td>\n",
       "      <td>361.933997</td>\n",
       "      <td>294.118818</td>\n",
       "      <td>1017.645409</td>\n",
       "    </tr>\n",
       "    <tr>\n",
       "      <th>std</th>\n",
       "      <td>7.435425</td>\n",
       "      <td>3.774937</td>\n",
       "      <td>32.399828</td>\n",
       "      <td>58.687508</td>\n",
       "      <td>48.833572</td>\n",
       "      <td>96.745441</td>\n",
       "      <td>85.081340</td>\n",
       "      <td>277.682895</td>\n",
       "    </tr>\n",
       "    <tr>\n",
       "      <th>min</th>\n",
       "      <td>18.000000</td>\n",
       "      <td>52.000000</td>\n",
       "      <td>5.000000</td>\n",
       "      <td>1.000000</td>\n",
       "      <td>1.000000</td>\n",
       "      <td>0.000000</td>\n",
       "      <td>1.000000</td>\n",
       "      <td>4.000000</td>\n",
       "    </tr>\n",
       "    <tr>\n",
       "      <th>25%</th>\n",
       "      <td>27.000000</td>\n",
       "      <td>66.000000</td>\n",
       "      <td>155.000000</td>\n",
       "      <td>160.000000</td>\n",
       "      <td>120.000000</td>\n",
       "      <td>287.000000</td>\n",
       "      <td>225.000000</td>\n",
       "      <td>805.000000</td>\n",
       "    </tr>\n",
       "    <tr>\n",
       "      <th>50%</th>\n",
       "      <td>31.000000</td>\n",
       "      <td>69.000000</td>\n",
       "      <td>178.000000</td>\n",
       "      <td>205.000000</td>\n",
       "      <td>155.000000</td>\n",
       "      <td>375.000000</td>\n",
       "      <td>300.000000</td>\n",
       "      <td>1040.000000</td>\n",
       "    </tr>\n",
       "    <tr>\n",
       "      <th>75%</th>\n",
       "      <td>37.000000</td>\n",
       "      <td>72.000000</td>\n",
       "      <td>197.000000</td>\n",
       "      <td>245.000000</td>\n",
       "      <td>190.000000</td>\n",
       "      <td>434.000000</td>\n",
       "      <td>355.000000</td>\n",
       "      <td>1224.000000</td>\n",
       "    </tr>\n",
       "    <tr>\n",
       "      <th>max</th>\n",
       "      <td>56.000000</td>\n",
       "      <td>83.000000</td>\n",
       "      <td>474.000000</td>\n",
       "      <td>390.000000</td>\n",
       "      <td>386.000000</td>\n",
       "      <td>1000.000000</td>\n",
       "      <td>882.000000</td>\n",
       "      <td>2135.000000</td>\n",
       "    </tr>\n",
       "  </tbody>\n",
       "</table>\n",
       "</div>"
      ],
      "text/plain": [
       "                age        height        weight         candj        snatch  \\\n",
       "count  30029.000000  30029.000000  30029.000000  30029.000000  30029.000000   \n",
       "mean      32.123847     68.871924    177.130607    205.418396    156.174198   \n",
       "std        7.435425      3.774937     32.399828     58.687508     48.833572   \n",
       "min       18.000000     52.000000      5.000000      1.000000      1.000000   \n",
       "25%       27.000000     66.000000    155.000000    160.000000    120.000000   \n",
       "50%       31.000000     69.000000    178.000000    205.000000    155.000000   \n",
       "75%       37.000000     72.000000    197.000000    245.000000    190.000000   \n",
       "max       56.000000     83.000000    474.000000    390.000000    386.000000   \n",
       "\n",
       "           deadlift        backsq    total_lift  \n",
       "count  30029.000000  30029.000000  30029.000000  \n",
       "mean     361.933997    294.118818   1017.645409  \n",
       "std       96.745441     85.081340    277.682895  \n",
       "min        0.000000      1.000000      4.000000  \n",
       "25%      287.000000    225.000000    805.000000  \n",
       "50%      375.000000    300.000000   1040.000000  \n",
       "75%      434.000000    355.000000   1224.000000  \n",
       "max     1000.000000    882.000000   2135.000000  "
      ]
     },
     "execution_count": 18,
     "metadata": {},
     "output_type": "execute_result"
    }
   ],
   "source": [
    "data.describe()"
   ]
  },
  {
   "cell_type": "code",
   "execution_count": 19,
   "id": "801a8526-3af6-4344-b28a-04de207e14c0",
   "metadata": {},
   "outputs": [
    {
     "data": {
      "text/plain": [
       "region        0\n",
       "gender        0\n",
       "age           0\n",
       "height        0\n",
       "weight        0\n",
       "candj         0\n",
       "snatch        0\n",
       "deadlift      0\n",
       "backsq        0\n",
       "eat           0\n",
       "background    0\n",
       "experience    0\n",
       "schedule      0\n",
       "howlong       0\n",
       "total_lift    0\n",
       "dtype: int64"
      ]
     },
     "execution_count": 19,
     "metadata": {},
     "output_type": "execute_result"
    }
   ],
   "source": [
    "# Count NAs\n",
    "data.isnull().sum()"
   ]
  },
  {
   "cell_type": "code",
   "execution_count": 20,
   "id": "e3224a7b-a196-4e88-ab4d-2b127d63e6ca",
   "metadata": {},
   "outputs": [
    {
     "name": "stdout",
     "output_type": "stream",
     "text": [
      "region          17\n",
      "gender           2\n",
      "age             39\n",
      "height          32\n",
      "weight         274\n",
      "candj          296\n",
      "snatch         256\n",
      "deadlift       432\n",
      "backsq         391\n",
      "eat             40\n",
      "background      35\n",
      "experience      67\n",
      "schedule       119\n",
      "howlong         25\n",
      "total_lift    1286\n",
      "dtype: int64\n"
     ]
    }
   ],
   "source": [
    "print(data.nunique())"
   ]
  },
  {
   "cell_type": "code",
   "execution_count": 21,
   "id": "a7aada7c-3513-4d75-a5cc-e0b4edea7eb9",
   "metadata": {},
   "outputs": [],
   "source": [
    "def counter_plot(column, title=''):\n",
    "    counter = column.value_counts()\n",
    "    plt.figure(figsize=(8,6))\n",
    "    plt.bar(counter.index, counter)\n",
    "    plt.title(title)"
   ]
  },
  {
   "cell_type": "code",
   "execution_count": 22,
   "id": "85b18c12-fde5-4629-9854-4767f8bbe343",
   "metadata": {},
   "outputs": [],
   "source": [
    "def point_plot(x, y):\n",
    "    sns.pointplot(x = x,y = y)\n",
    "    plt.show()"
   ]
  },
  {
   "cell_type": "code",
   "execution_count": 23,
   "id": "82f8d848-e040-48f8-864a-2ef6bd047daa",
   "metadata": {},
   "outputs": [
    {
     "data": {
      "image/png": "[encoded data removed]",
      "text/plain": [
       "<Figure size 800x600 with 1 Axes>"
      ]
     },
     "metadata": {},
     "output_type": "display_data"
    }
   ],
   "source": [
    "counter_plot(data['gender'], 'Gender Counts')"
   ]
  },
  {
   "cell_type": "code",
   "execution_count": 24,
   "id": "6825225c-c522-45a8-8ef2-e74602e658e2",
   "metadata": {},
   "outputs": [
    {
     "data": {
      "image/png": "[encoded data removed]",
      "text/plain": [
       "<Figure size 640x480 with 1 Axes>"
      ]
     },
     "metadata": {},
     "output_type": "display_data"
    }
   ],
   "source": [
    "point_plot(data['gender'], data['total_lift'])"
   ]
  },
  {
   "cell_type": "code",
   "execution_count": 25,
   "id": "fc9b8e85-8fe3-42e7-a747-450a3c64efbc",
   "metadata": {},
   "outputs": [
    {
     "data": {
      "text/plain": [
       "Text(0.5, 1.0, 'Total lift distribution')"
      ]
     },
     "execution_count": 25,
     "metadata": {},
     "output_type": "execute_result"
    },
    {
     "data": {
      "image/png": "[encoded data removed]",
      "text/plain": [
       "<Figure size 640x480 with 1 Axes>"
      ]
     },
     "metadata": {},
     "output_type": "display_data"
    }
   ],
   "source": [
    "plt.hist(data['total_lift'], bins = 20, range=(0,3000))\n",
    "plt.title('Total lift distribution')"
   ]
  },
  {
   "cell_type": "code",
   "execution_count": 26,
   "id": "781e858a-888f-4a12-9157-28218433e05b",
   "metadata": {},
   "outputs": [
    {
     "data": {
      "text/plain": [
       "Text(0.5, 1.0, 'Height Distribution (inches)')"
      ]
     },
     "execution_count": 26,
     "metadata": {},
     "output_type": "execute_result"
    },
    {
     "data": {
      "image/png": "[encoded data removed]",
      "text/plain": [
       "<Figure size 640x480 with 1 Axes>"
      ]
     },
     "metadata": {},
     "output_type": "display_data"
    }
   ],
   "source": [
    "plt.hist(data['height'], bins = 50, range=(0,100))\n",
    "plt.title('Height Distribution (inches)')"
   ]
  },
  {
   "cell_type": "code",
   "execution_count": 27,
   "id": "62cdd455-2a54-4008-ae24-b431dabf380f",
   "metadata": {},
   "outputs": [
    {
     "data": {
      "text/plain": [
       "<Axes: >"
      ]
     },
     "execution_count": 27,
     "metadata": {},
     "output_type": "execute_result"
    },
    {
     "data": {
      "image/png": "[encoded data removed]",
      "text/plain": [
       "<Figure size 800x600 with 2 Axes>"
      ]
     },
     "metadata": {},
     "output_type": "display_data"
    }
   ],
   "source": [
    "correlation_matrix = data.corr(numeric_only=True)\n",
    "plt.figure(figsize=(8,6))\n",
    "sns.heatmap(correlation_matrix)"
   ]
  },
  {
   "cell_type": "markdown",
   "id": "5c156e97-51ec-4c35-b0e0-a9f8368ef2ab",
   "metadata": {},
   "source": [
    "With less uncorrelated features, the height and weight appear to be more highly correlated, and the lifts are still nearly 1."
   ]
  }
 ],
 "metadata": {
  "kernelspec": {
   "display_name": "Python [conda env:base] *",
   "language": "python",
   "name": "conda-base-py"
  },
  "language_info": {
   "codemirror_mode": {
    "name": "ipython",
    "version": 3
   },
   "file_extension": ".py",
   "mimetype": "text/x-python",
   "name": "python",
   "nbconvert_exporter": "python",
   "pygments_lexer": "ipython3",
   "version": "3.12.7"
  }
 },
 "nbformat": 4,
 "nbformat_minor": 5
}
